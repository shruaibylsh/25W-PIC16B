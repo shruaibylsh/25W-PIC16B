{
 "cells": [
  {
   "cell_type": "raw",
   "metadata": {
    "vscode": {
     "languageId": "raw"
    }
   },
   "source": [
    "---\n",
    "title: \"Building a Message Bank Web App with Dash by Plotly\"\n",
    "author: \"Sihui Lin\"\n",
    "date: \"2025-02-16\"\n",
    "categories: [homework, tutorials]\n",
    "---"
   ]
  },
  {
   "cell_type": "markdown",
   "metadata": {},
   "source": [
    "# Building a Message Bank Web App with Dash by Plotly\n",
    "In this tutorial, we'll walk through the process of building a simple web application using Dash by Plotly. The app we are creating is a message bank, which allows users to submit messages and view a sample of messages stored in a database. By the end of this tutorial, you will have a functional web app that demonstrates the use of Dash callbacks, database management, and basic styling."
   ]
  },
  {
   "cell_type": "markdown",
   "metadata": {},
   "source": [
    "## Building the Web App using Dash\n",
    "First, let's build the dash web app before adding functionalities.\n",
    "\n",
    "We’ll start by importing the required libraries and initializing the app. Then, we will create a message bank to store users' daily mood quotes:"
   ]
  },
  {
   "cell_type": "code",
   "execution_count": 1,
   "metadata": {},
   "outputs": [],
   "source": [
    "from dash import Dash, html, dcc, Input, Output, State\n",
    "app = Dash(__name__)\n",
    "app.title = \"Message Bank: Daily Mood Quotes\""
   ]
  },
  {
   "cell_type": "markdown",
   "metadata": {},
   "source": [
    "Next, we will create the app layout. It consists of two sections: submit and view.\n",
    "\n",
    "The submission functionality will have three user interface elements:\n",
    "- a text box for submitting a message\n",
    "- a text box for submitting the name of the user\n",
    "- a \"submit\" button\n",
    "\n",
    "The view functionality will have two user interface elements:\n",
    "- a section for displaying random messages\n",
    "- an \"update\" button\n",
    "\n",
    "Let’s also apply some styling to the layout, including fonts, colors, margins, and more."
   ]
  },
  {
   "cell_type": "code",
   "execution_count": 2,
   "metadata": {},
   "outputs": [],
   "source": [
    "app.layout = html.Div([\n",
    "    html.H1(\"Message Bank: Daily Mood Quotes\", \n",
    "            style={\n",
    "                \"textAlign\": \"center\",\n",
    "                \"color\": \"#084a8c\",\n",
    "                \"fontFamily\": \"'Roboto', sans-serif\",\n",
    "                \"marginBottom\": \"20px\"\n",
    "    }),\n",
    "    \n",
    "    # Submission Section\n",
    "    html.H2(\"Submit\", style={\n",
    "        \"color\": \"#7848a8\",\n",
    "        \"fontFamily\": \"'Roboto', sans-serif\"\n",
    "    }),\n",
    "    html.Label(\"Your message:\", style={\n",
    "        \"fontFamily\": \"'Roboto', sans-serif\",\n",
    "        \"marginTop\": \"10px\",\n",
    "        \"marginBottom\": \"10px\"\n",
    "        }), \n",
    "    html.Br(),\n",
    "    dcc.Textarea(id=\"message\", style = {\n",
    "        \"width\": \"50%\",\n",
    "        \"height\": \"100px\",\n",
    "        \"verticalAlign\": \"top\"\n",
    "    }),\n",
    "    html.Br(),\n",
    "    html.Label(\"Your Name or Handle:\", style={\n",
    "        \"fontFamily\": \"'Roboto', sans-serif\",\n",
    "        \"marginTop\": \"10px\",\n",
    "        \"marginBottom\": \"10px\"\n",
    "        }),\n",
    "    html.Br(),\n",
    "    dcc.Input(id=\"handle\", type=\"text\"),\n",
    "    html.Br(),\n",
    "    html.Button(\"Submit\", id=\"submit-button\",\n",
    "                style={\n",
    "        \"backgroundColor\": \"#e0d1f0\",\n",
    "        \"color\": \"white\",\n",
    "        \"padding\": \"10px 20px\",\n",
    "        \"border\": \"none\",\n",
    "        \"borderRadius\": \"25px\",\n",
    "        \"cursor\": \"pointer\",\n",
    "        \"fontFamily\": \"'Roboto', sans-serif\",\n",
    "        \"fontSize\": \"16px\",\n",
    "        \"marginTop\": \"10px\",\n",
    "        \"marginBottom\": \"10px\"\n",
    "    }),\n",
    "    html.Div(id=\"submit-confirmation\", style={\"fontFamily\": \"'Roboto', sans-serif\"}),\n",
    "    \n",
    "    # View Messages Section\n",
    "    html.Hr(),\n",
    "    html.H2(\"View\", style={\n",
    "        \"color\": \"#7848a8\",\n",
    "        \"fontFamily\": \"'Roboto', sans-serif\"\n",
    "    }),\n",
    "    html.Div(id=\"message-display\",\n",
    "             style = {\"fontFamily\": \"'Roboto', sans-serif\"}),\n",
    "    html.Button(\"Update\", id=\"update-button\", style={\n",
    "        \"backgroundColor\": \"#e0d1f0\",\n",
    "        \"color\": \"white\",\n",
    "        \"padding\": \"10px 20px\",\n",
    "        \"border\": \"none\",\n",
    "        \"borderRadius\": \"25px\",\n",
    "        \"cursor\": \"pointer\",\n",
    "        \"fontFamily\": \"'Roboto', sans-serif\",\n",
    "        \"fontSize\": \"16px\",\n",
    "        \"marginTop\": \"10px\",\n",
    "        \"marginBottom\": \"10px\"\n",
    "    }),  \n",
    "])"
   ]
  },
  {
   "cell_type": "markdown",
   "metadata": {},
   "source": [
    "## Creating the Messages Database\n",
    "In this section, we will create a database to store the messages.\n",
    "\n",
    "For database management in the app, we will create two python functions. The first function is `get_message_db()`. It handles the creation of the database and the messages table if they don’t already exist."
   ]
  },
  {
   "cell_type": "code",
   "execution_count": 3,
   "metadata": {},
   "outputs": [],
   "source": [
    "import sqlite3\n",
    "\n",
    "message_db = None\n",
    "\n",
    "def get_message_db():\n",
    "    \"\"\"\n",
    "    create or connect to the sqlite database and ensure the messages table exists\n",
    "    retun: the database connection\n",
    "    \"\"\"\n",
    "    global message_db\n",
    "    if message_db:\n",
    "        return message_db\n",
    "    \n",
    "    else:\n",
    "        # connect to database (or create it if it doesn't exist)\n",
    "        message_db = sqlite3.connect(\"messages_db.sqlite\", check_same_thread=False)\n",
    "\n",
    "        # create the messages table if it doesn't exist\n",
    "        cmd = \"\"\"\n",
    "            CREATE TABLE IF NOT EXISTS messages(\n",
    "                handle TEXT,\n",
    "                message TEXT\n",
    "            )\n",
    "            \"\"\"\n",
    "        \n",
    "        cursor = message_db.cursor()\n",
    "        cursor.execute(cmd)\n",
    "        return message_db"
   ]
  },
  {
   "cell_type": "markdown",
   "metadata": {},
   "source": [
    "The function above first check whether there is a database called `message_db` defined in the global scope. If not, it will connect to that database and assign it to the global variable `message_db`. \n",
    "\n",
    "It will also check whether a table called `messages` exists in the database, and create it if not. Using SQL command, we create a table with two columns: handle and message. At the end, the function returns the connection `message_db`."
   ]
  },
  {
   "cell_type": "markdown",
   "metadata": {},
   "source": [
    "The second function is `insert_message(handle, message)`, which inserts the message into the database."
   ]
  },
  {
   "cell_type": "code",
   "execution_count": 4,
   "metadata": {},
   "outputs": [],
   "source": [
    "def insert_message(handle, message):\n",
    "    \"\"\"\n",
    "    insert a new message into the messages database\n",
    "    \"\"\"\n",
    "    db = get_message_db()\n",
    "    cursor = db.cursor()\n",
    "    \n",
    "    cmd = \"INSERT INTO messages (handle, message) VALUES (?, ?)\"\n",
    "    cursor.execute(cmd, (handle, message))\n",
    "    \n",
    "    db.commit() # save the row insertion\n",
    "    global message_db\n",
    "    message_db = None # set the global message_db to none\n",
    "    db.close() # close the database connection"
   ]
  },
  {
   "cell_type": "markdown",
   "metadata": {},
   "source": [
    "The function above uses a cursor to insert the message into the message database. We use parameterized query with ? as placeholders, which properly handles the string quotes.\n",
    "\n",
    "At the end of the function, we run `db.commit()` after row insertion to ensure the change has been saved, and we will also close the database connection. Note that a column called rowid is automatically generated by default, which gives an integer index to each row we add to the database."
   ]
  },
  {
   "cell_type": "markdown",
   "metadata": {},
   "source": [
    "## Enable Submissions through Callback Function\n",
    "\n",
    "Now that we have created functions for database management, we will add a submit functionality to our web app. \n",
    "\n",
    "To enable interaction with a input component and change the resulting output component, we will need to create a callback function `submit()` to update the components. "
   ]
  },
  {
   "cell_type": "code",
   "execution_count": 5,
   "metadata": {},
   "outputs": [],
   "source": [
    "@app.callback(\n",
    "    Output(\"submit-confirmation\", \"children\"), # the output will update this div element\n",
    "    Input(\"submit-button\", \"n_clicks\"),\n",
    "    State(\"handle\", \"value\"),\n",
    "    State(\"message\", \"value\"),\n",
    "    prevent_initial_call=True\n",
    ")\n",
    "def submit(n_clicks, handle, message):\n",
    "    \"\"\"\n",
    "    insert the submitted message into the database and display a confirmation line\n",
    "    \"\"\"\n",
    "    if handle and message:\n",
    "        insert_message(handle, message)\n",
    "        return \"Thank you for your submission!\" # successful submission\n",
    "    else:\n",
    "        return \"Error: please check if any field is empty!\" # error occurs"
   ]
  },
  {
   "cell_type": "markdown",
   "metadata": {},
   "source": [
    "This function inserts the submitted message into the messages database and display a confirmation line if submission is successful, and prints an error message if it failed.\n",
    "\n",
    "The callback specifies each specific input and output components, as well as their specific properties. For example, the output will be the \"submit-confirmation\" component and we will update its children html element."
   ]
  },
  {
   "cell_type": "markdown",
   "metadata": {},
   "source": [
    "## Enabling Viewing through Callback Function\n",
    "After enabling the submit functionality, we will add the second component, viewing submissions. In this section, we will write two other functions to enable message display.\n",
    "\n",
    "First, we will write a function called `random_messages(n)`, which will return a collection of n random messages from the message_db, or fewer if necessary. We have set a default number of 5 messages to be displayed."
   ]
  },
  {
   "cell_type": "code",
   "execution_count": 6,
   "metadata": {},
   "outputs": [],
   "source": [
    "def random_messages(n=5):\n",
    "    \"\"\"\n",
    "    return a collection of n random messages from the database\n",
    "    or fewer if necessary\n",
    "    \"\"\"\n",
    "\n",
    "    db = get_message_db()\n",
    "    cursor = db.cursor()\n",
    "\n",
    "    cmd = \"SELECT handle, message FROM messages ORDER BY RANDOM() LIMIT ?\" # parameterized query\n",
    "    cursor.execute(cmd, (n,))\n",
    "    messages = cursor.fetchall()\n",
    "\n",
    "    db.close()\n",
    "    global message_db\n",
    "    message_db = None # set the global message_db to none\n",
    "    return messages\n"
   ]
  },
  {
   "cell_type": "markdown",
   "metadata": {},
   "source": [
    "Next, we will write a callback function called  `view()` to display random messages. These messages will be displayed in the section with the component id \"message-display\"."
   ]
  },
  {
   "cell_type": "code",
   "execution_count": 7,
   "metadata": {},
   "outputs": [],
   "source": [
    "@app.callback(\n",
    "        Output(\"message-display\", \"children\"),\n",
    "        Input(\"update-button\", \"n_clicks\"),\n",
    "        prevent_initial_call=True\n",
    ")\n",
    "def view(n_clicks):\n",
    "    \"\"\"\n",
    "    display random messages\n",
    "    \"\"\"\n",
    "    messages = random_messages()\n",
    "\n",
    "    # iterate through each of the message\n",
    "    messages_list = []\n",
    "    for handle, message in messages:\n",
    "        messages_list.append(html.P([\n",
    "            message,\n",
    "            html.Br(),\n",
    "            \"- \" + handle\n",
    "        ]))\n",
    "\n",
    "    return messages_list"
   ]
  },
  {
   "cell_type": "markdown",
   "metadata": {},
   "source": [
    "This function first calls  `random_messages()` to grab some messages and display them using a loop. This function is triggered when the \"update\" button is pressed, as specified in the callback."
   ]
  },
  {
   "cell_type": "markdown",
   "metadata": {},
   "source": [
    "## Running the Web App\n",
    "Now that we've set up all the features and layout of our website, let's run the app and test its functionality to ensure everything works as expected."
   ]
  },
  {
   "cell_type": "code",
   "execution_count": 8,
   "metadata": {},
   "outputs": [
    {
     "data": {
      "text/html": [
       "\n",
       "        <iframe\n",
       "            width=\"100%\"\n",
       "            height=\"650\"\n",
       "            src=\"http://127.0.0.1:8050/\"\n",
       "            frameborder=\"0\"\n",
       "            allowfullscreen\n",
       "            \n",
       "        ></iframe>\n",
       "        "
      ],
      "text/plain": [
       "<IPython.lib.display.IFrame at 0x11b1d8a10>"
      ]
     },
     "metadata": {},
     "output_type": "display_data"
    }
   ],
   "source": [
    "if __name__ == \"__main__\":\n",
    "    app.run_server(port=8050, debug=True)"
   ]
  },
  {
   "cell_type": "markdown",
   "metadata": {},
   "source": [
    "First, let’s test the submission function. It works perfectly, displaying a thank you message after a successful submission.\n",
    "![screenshot of submit function](submit.png)"
   ]
  },
  {
   "cell_type": "markdown",
   "metadata": {},
   "source": [
    "Next, let's check the message display feature. We’ve submitted seven messages, each labeled with keywords such as \"one\", \"two\", \"three\", and so on, to indicate the order of submission. Since we’ve capped the display to a maximum of five messages, clicking the update button will randomly select five messages from the database.\n",
    "\n",
    "\n",
    "![Screnshot of Message Display](update.png)"
   ]
  },
  {
   "cell_type": "markdown",
   "metadata": {},
   "source": [
    "Great! We see that the web app is working as desired. With these functions tested and confirmed, our web app is now ready for deployment! :)"
   ]
  }
 ],
 "metadata": {
  "kernelspec": {
   "display_name": "Python [conda env:PIC16B-25W]",
   "language": "python",
   "name": "conda-env-PIC16B-25W-py"
  },
  "language_info": {
   "codemirror_mode": {
    "name": "ipython",
    "version": 3
   },
   "file_extension": ".py",
   "mimetype": "text/x-python",
   "name": "python",
   "nbconvert_exporter": "python",
   "pygments_lexer": "ipython3",
   "version": "3.11.6"
  }
 },
 "nbformat": 4,
 "nbformat_minor": 4
}
