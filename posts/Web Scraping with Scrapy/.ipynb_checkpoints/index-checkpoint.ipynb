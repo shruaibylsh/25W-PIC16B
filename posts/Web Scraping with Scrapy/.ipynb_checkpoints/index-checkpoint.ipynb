{
 "cells": [
  {
   "cell_type": "raw",
   "id": "4674492c-e3a4-4c85-8e08-c636d2e9304a",
   "metadata": {},
   "source": [
    "---\n",
    "title: \"Generate Movie Recommendations by Web Scraping\"\n",
    "author: \"Sihui Lin\"\n",
    "date: \"2025-02-10\"\n",
    "categories: [homework, tutorials]\n",
    "---"
   ]
  },
  {
   "cell_type": "markdown",
   "id": "cc3a1275-4ea3-452f-8219-b06fc7b77596",
   "metadata": {},
   "source": [
    "# Generate Movie Recommendtions through Web Scraping\n",
    "In this tutorial, we'll explore how to build a movie recommendation system using web scraping with Python's Scrapy framework. While there are various established approaches to building recommender systems (such as content-based filtering and collaborative filtering), we'll take an innovative approach by leveraging existing movie databases online. Our method will focus on finding movies that share the most actors with a target movie, using this cast overlap as a basis for generating relevant recommendations."
   ]
  },
  {
   "cell_type": "markdown",
   "id": "231534d5-26d0-451b-b7a6-0902ddfbfafc",
   "metadata": {},
   "source": [
    "## Set Up the Spider\n",
    "For this tutorial, we will use TMDB (https://www.themoviedb.org/) to access comprehensive movie data, including cast and crew information."
   ]
  },
  {
   "cell_type": "markdown",
   "id": "4509cea6-c2de-46a3-bc88-e1edae41de64",
   "metadata": {},
   "source": [
    "First, let's create a file in the spiders directory called `tmdb_spider.py`. We will add the following lines to the file:"
   ]
  },
  {
   "cell_type": "code",
   "execution_count": null,
   "id": "d7dcd080-12a2-43c0-a1fc-5627e17541a7",
   "metadata": {},
   "outputs": [],
   "source": [
    "import scrapy\n",
    "\n",
    "class TmdbSpider(scrapy.Spider):\n",
    "    name = 'tmdb_spider'\n",
    "    def __init__(self, subdir=\"\", *args, **kwargs):\n",
    "        self.start_urls = [f\"https://www.themoviedb.org/movie/{subdir}/\"]"
   ]
  },
  {
   "cell_type": "markdown",
   "id": "cf1df848-5334-4464-b58b-0911040b9932",
   "metadata": {},
   "source": [
    "This creates a spider named `tmdb_spider` that will start scraping from a specified TMDB movie page. The subdir parameter allows us to specify which movie's page to begin scraping."
   ]
  },
  {
   "cell_type": "markdown",
   "id": "6348fac5-0760-41b3-b828-18cfd3d7de22",
   "metadata": {},
   "source": [
    "This spider will first go. toa movie page, and then navigate to the full cast & crew page."
   ]
  },
  {
   "cell_type": "code",
   "execution_count": null,
   "id": "ca323969-5286-466a-b5a2-2917eab6f504",
   "metadata": {},
   "outputs": [],
   "source": []
  },
  {
   "cell_type": "markdown",
   "id": "74bdae45-790b-45a3-902e-4239723f86ff",
   "metadata": {},
   "source": [
    "### Parsing the Movie Page\n",
    "\n",
    "\n",
    "parse(self, response) should assume that you start on a movie page, and then navigate to the Full Cast & Crew page. Remember that this page has url <movie_url>cast. (You are allowed to hardcode that part.) Once there, the parse_full_credits(self,response) should be called, by specifying this method in the callback argument to a yielded scrapy.Request. The parse() method does not return any data. This method should be no more than 5 lines of code, excluding comments and docstrings."
   ]
  },
  {
   "cell_type": "markdown",
   "id": "0e80efc6-196a-4ace-93fc-96796bd6e6c8",
   "metadata": {},
   "source": [
    "### Parsing the Full Cast & Crew Page"
   ]
  },
  {
   "cell_type": "markdown",
   "id": "de250ced-3c16-40ed-bb95-0a3e407ce255",
   "metadata": {},
   "source": [
    "### Parsing the Actor Page"
   ]
  },
  {
   "cell_type": "code",
   "execution_count": null,
   "id": "4b6a877a-7af9-4201-b01c-dce39b255308",
   "metadata": {},
   "outputs": [],
   "source": []
  },
  {
   "cell_type": "code",
   "execution_count": null,
   "id": "93ca3a77-3a02-409d-a538-3a66f8793d17",
   "metadata": {},
   "outputs": [],
   "source": []
  },
  {
   "cell_type": "markdown",
   "id": "7cfd06f1-b75f-448a-9215-9f85cb9b3675",
   "metadata": {},
   "source": [
    "## Using the Scraper for Movie Recommendation\n",
    "One of my favorite movies is Mulholland Drive (2001) directed by David Lynch. It is a thriller postmodern movie\n",
    "\n",
    "https://www.themoviedb.org/movie/1018-mulholland-drive\n",
    "https://www.themoviedb.org/movie/1018-mulholland-drive/cast\n"
   ]
  },
  {
   "cell_type": "markdown",
   "id": "daec05b8-0359-4d27-885f-a32474c8b302",
   "metadata": {},
   "source": [
    "Once you’re happy with the operation of your spider, compute a sorted list with the top movies and TV shows that share actors with your favorite movie or TV show. For example, it may have two columns: one for “movie names” and “number of shared actors”."
   ]
  },
  {
   "cell_type": "code",
   "execution_count": null,
   "id": "846c961e-9767-422a-89a5-12af3917bc34",
   "metadata": {},
   "outputs": [],
   "source": []
  },
  {
   "cell_type": "code",
   "execution_count": null,
   "id": "09211883-a94c-46c5-bc03-8e659141d268",
   "metadata": {},
   "outputs": [],
   "source": []
  }
 ],
 "metadata": {
  "kernelspec": {
   "display_name": "Python [conda env:PIC16B-25W]",
   "language": "python",
   "name": "conda-env-PIC16B-25W-py"
  },
  "language_info": {
   "codemirror_mode": {
    "name": "ipython",
    "version": 3
   },
   "file_extension": ".py",
   "mimetype": "text/x-python",
   "name": "python",
   "nbconvert_exporter": "python",
   "pygments_lexer": "ipython3",
   "version": "3.11.6"
  }
 },
 "nbformat": 4,
 "nbformat_minor": 5
}
