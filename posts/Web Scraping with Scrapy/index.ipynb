{
 "cells": [
  {
   "cell_type": "raw",
   "id": "4674492c-e3a4-4c85-8e08-c636d2e9304a",
   "metadata": {
    "vscode": {
     "languageId": "raw"
    }
   },
   "source": [
    "---\n",
    "title: \"Create A Movie Recommender through Web Scraping\"\n",
    "author: \"Sihui Lin\"\n",
    "date: \"2025-02-10\"\n",
    "categories: [homework, tutorials]\n",
    "---"
   ]
  },
  {
   "cell_type": "markdown",
   "id": "cc3a1275-4ea3-452f-8219-b06fc7b77596",
   "metadata": {},
   "source": [
    "# Create a Movie Recommender through Web Scraping\n",
    "In this tutorial, we'll explore how to build a movie recommendation system using web scraping with Python's Scrapy framework. While there are various established approaches to building recommender systems (such as content-based filtering and collaborative filtering), we'll take an innovative approach by leveraging existing movie databases online. Our method will focus on finding movies that share the most actors with a target movie, using this cast overlap as a basis for generating relevant recommendations."
   ]
  },
  {
   "cell_type": "markdown",
   "id": "231534d5-26d0-451b-b7a6-0902ddfbfafc",
   "metadata": {},
   "source": [
    "## Set Up the Spider\n",
    "For this tutorial, we will use TMDB (https://www.themoviedb.org/) to access comprehensive movie data, including cast and crew information."
   ]
  },
  {
   "cell_type": "markdown",
   "id": "4509cea6-c2de-46a3-bc88-e1edae41de64",
   "metadata": {},
   "source": [
    "First, let's create a file in the spiders directory called `tmdb_spider.py`. We will add the following lines to the file:"
   ]
  },
  {
   "cell_type": "code",
   "execution_count": 1,
   "id": "d7dcd080-12a2-43c0-a1fc-5627e17541a7",
   "metadata": {},
   "outputs": [],
   "source": [
    "import scrapy\n",
    "\n",
    "class TmdbSpider(scrapy.Spider):\n",
    "    name = 'tmdb_spider'\n",
    "    def __init__(self, subdir=\"\", *args, **kwargs):\n",
    "        self.start_urls = [f\"https://www.themoviedb.org/movie/{subdir}/\"]"
   ]
  },
  {
   "cell_type": "markdown",
   "id": "cf1df848-5334-4464-b58b-0911040b9932",
   "metadata": {},
   "source": [
    "This creates a spider named `tmdb_spider` that will start scraping from a specified TMDB movie page. The subdir parameter allows us to specify which movie's page to begin scraping."
   ]
  },
  {
   "cell_type": "markdown",
   "id": "6348fac5-0760-41b3-b828-18cfd3d7de22",
   "metadata": {},
   "source": [
    "This spider follows a three-stage scraping process. It begins at a movie's main page, and then navigates to the Full Cast & Crew page. Once it reaches the cast page, it will access the individual actor pages. For each actor, it then collects a list of other movies or TV shows they have appeared in. \n",
    "\n",
    "We're going to create three parsing methods for each stage of the scraping."
   ]
  },
  {
   "cell_type": "markdown",
   "id": "74bdae45-790b-45a3-902e-4239723f86ff",
   "metadata": {},
   "source": [
    "### Parsing the Movie Page\n",
    "The first parsing method we write in the spider will assume that we start on a movie page, and then navigate to the Full Cast & Crew Page. We write it as the follows:"
   ]
  },
  {
   "cell_type": "code",
   "execution_count": 2,
   "id": "91da265b",
   "metadata": {},
   "outputs": [],
   "source": [
    "def parse(self, response):\n",
    "        \"\"\"\n",
    "        parse the movie page and navigate to the full cast & crew page\n",
    "        arguments: the response object containing the movie page HTML\n",
    "        yields a request to follow the cast page URL, with parse_full_credits as callback\n",
    "        \"\"\"\n",
    "        \n",
    "        cast_page_link = response.css('.new_button a::attr(href)').get()\n",
    "        yield response.follow(cast_page_link, callback = self.parse_full_credits) # follow URL of the cast page"
   ]
  },
  {
   "cell_type": "markdown",
   "id": "0e447ef3",
   "metadata": {},
   "source": [
    "This method appends \"/cast\" to the movie page URL to access the Cast & Crew page. When called, it yields a new request that Scrapy will follow, using `parse_full_credits` as the callback method to process the resulting page."
   ]
  },
  {
   "cell_type": "markdown",
   "id": "0e80efc6-196a-4ace-93fc-96796bd6e6c8",
   "metadata": {},
   "source": [
    "### Parsing the Full Cast & Crew Page\n",
    "The second parsing method, `parse_full_credits`, will access the individual pages of actors (not including crew members) in the specified movie."
   ]
  },
  {
   "cell_type": "code",
   "execution_count": 3,
   "id": "206b9a46",
   "metadata": {},
   "outputs": [],
   "source": [
    "def parse_full_credits(self, response):\n",
    "    \"\"\"\n",
    "    parses the full cast and crew page and navigate to actors' individual pages\n",
    "    arguments: the response object containing the cast & crew page HTML\n",
    "    yields: request to follow each actors' page URL, with parse_actor_page as callback\n",
    "    \"\"\"\n",
    "    \n",
    "    # access the relative URLs for actors' individual pages\n",
    "    actor_pages = response.css('ol.people.credits:not(.crew) li > a::attr(href)').getall()\n",
    "\n",
    "    # yield new request for each actor page\n",
    "    for actor in actor_pages:\n",
    "        yield response.follow(actor, callback = self.parse_actor_page)"
   ]
  },
  {
   "cell_type": "markdown",
   "id": "61581b43",
   "metadata": {},
   "source": [
    "In this method, we first use a CSS selector to find all the relative URLs for actors' individual pages. We use the symbol '>' to make sure that we only select `a` elements that are direct children of `li` elements. It then iterates through each of these URLs and create a new request for each actor's page, which will then be processed by the `parse_actor_page` method that we will look into next."
   ]
  },
  {
   "cell_type": "markdown",
   "id": "de250ced-3c16-40ed-bb95-0a3e407ce255",
   "metadata": {},
   "source": [
    "### Parsing the Actor Page\n",
    "Now we have reached the third stage of scraping! We will write the third parsing method, `parse_actor_page`. This method collects each actor's name and their complete list of acting roles, generating a dictionary for each unique movie or TV show they've appeared in. "
   ]
  },
  {
   "cell_type": "code",
   "execution_count": 4,
   "id": "4b6a877a-7af9-4201-b01c-dce39b255308",
   "metadata": {},
   "outputs": [],
   "source": [
    "def parse_actor_page(self, response):\n",
    "    \"\"\"\n",
    "    parse the actor page and return a dictionary for actor name and movie/tv names\n",
    "    argument: the response object containing the actor's page HTML\n",
    "    yield a dictionary of the form {\"actor\" : actor_name, \"movie_or_TV_name\" : movie_or_TV_name},\n",
    "    which records a list of unique movie/tv names where the actor has acted\n",
    "    \"\"\"\n",
    "    # extract actor name\n",
    "    actor_name = response.css('h2.title a::text').get()\n",
    "\n",
    "    # extract the categories the actor have worked in (acting, production, ...)\n",
    "    categories = response.css('div.credits_list h3::text').getall()\n",
    "\n",
    "    # extract the table of credits for all categories\n",
    "    all_titles = response.css('div.credits_list table.credits')\n",
    "\n",
    "    for i, category in enumerate(categories):\n",
    "        if category == 'Acting': # only check the acting categories\n",
    "            titles = all_titles[i].css('table.credit_group tr a.tool:tip bdi::text').getall()\n",
    "\n",
    "            # get unique titles using set()\n",
    "            unique_titles = list(set(titles))\n",
    "\n",
    "            for title in unique_titles:\n",
    "                yield {\"actor\": actor_name, \"movie_or_TV_name\": title}\n",
    "            break # break when category is no longer \"acting\""
   ]
  },
  {
   "cell_type": "markdown",
   "id": "03c786f1",
   "metadata": {},
   "source": [
    "This method first extracts the actor's name, the categories the actor have worked in (acting, production...), and the table of credits for all categories. It then checks if the category is \"Acting\", and then extract the titles of movies/TV under the acting credits. The function set() is used to get unique titles, and from there, we will yield a dictionary containing both the actor's name and the movie/TV title.\n",
    "\n",
    "This method will iterate through all actors of the specified movie, so we will get a long list of all the movie/TV titles that each of the actors of the movie have acted in."
   ]
  },
  {
   "cell_type": "markdown",
   "id": "7cfd06f1-b75f-448a-9215-9f85cb9b3675",
   "metadata": {},
   "source": [
    "## Using the Scraper for Movie Recommendation\n",
    "One of my favorite movies is Mulholland Drive (2001) directed by David Lynch. It is a masterpiece of surrealist cinema that blends mystery, psychological thriller, and noir elements to create an enigmatic narrative about dreams and reality in Hollywood.\n",
    "\n",
    "The link to this movie page is https://www.themoviedb.org/movie/1018-mulholland-drive, and let's test our scraper to see if it works well in generating movie recommendations!\n",
    "\n",
    "We will run the following command in the terminal (make sure you are in the same directory as the spider):\n",
    "```bash\n",
    "scrapy crawl tmdb_spider -o results.csv -a subdir=1018-mulholland-drive\n",
    "```\n",
    "\n",
    "This command will generate a CSV file named `results.csv` in your directory. The file will contain a comprehensive list of actors from Mulholland Drive and their corresponding filmographies, which we can analyze to identify potential movie recommendations based on cast overlap."
   ]
  },
  {
   "cell_type": "markdown",
   "id": "daec05b8-0359-4d27-885f-a32474c8b302",
   "metadata": {},
   "source": [
    "### Evaluate the Effectiveness \n",
    "Let's evaluate our scraper's effectiveness in generating movie recommendations by analyzing the cast connections.\n",
    "\n",
    "First, let's compute a sorted list with the top movies and TC shows that share actors with Mulholland Drive. It will have two columns: \"move names\" and \"number of shared actors\".\n",
    "\n",
    "Let's first import necessary libraries and load the data:"
   ]
  },
  {
   "cell_type": "code",
   "execution_count": 5,
   "id": "7957abdd",
   "metadata": {},
   "outputs": [],
   "source": [
    "import pandas as pd\n",
    "movie = pd.read_csv(\"TMDB_scraper/TMDB_scraper/spiders/results.csv\")"
   ]
  },
  {
   "cell_type": "markdown",
   "id": "66f92fcf",
   "metadata": {},
   "source": [
    "Next, we will group the movie dataframe by movie name and count the number of unique actors in each of them. We will then sort the dataframe by the number of shared actors in descending order:"
   ]
  },
  {
   "cell_type": "code",
   "execution_count": 6,
   "id": "0f772d5e",
   "metadata": {},
   "outputs": [
    {
     "data": {
      "text/html": [
       "<div>\n",
       "<style scoped>\n",
       "    .dataframe tbody tr th:only-of-type {\n",
       "        vertical-align: middle;\n",
       "    }\n",
       "\n",
       "    .dataframe tbody tr th {\n",
       "        vertical-align: top;\n",
       "    }\n",
       "\n",
       "    .dataframe thead th {\n",
       "        text-align: right;\n",
       "    }\n",
       "</style>\n",
       "<table border=\"1\" class=\"dataframe\">\n",
       "  <thead>\n",
       "    <tr style=\"text-align: right;\">\n",
       "      <th></th>\n",
       "      <th>movie names</th>\n",
       "      <th>number of shared actors</th>\n",
       "    </tr>\n",
       "  </thead>\n",
       "  <tbody>\n",
       "    <tr>\n",
       "      <th>273</th>\n",
       "      <td>CSI: Crime Scene Investigation</td>\n",
       "      <td>8</td>\n",
       "    </tr>\n",
       "    <tr>\n",
       "      <th>2037</th>\n",
       "      <td>Twin Peaks</td>\n",
       "      <td>8</td>\n",
       "    </tr>\n",
       "    <tr>\n",
       "      <th>836</th>\n",
       "      <td>JAG</td>\n",
       "      <td>7</td>\n",
       "    </tr>\n",
       "    <tr>\n",
       "      <th>345</th>\n",
       "      <td>Cold Case</td>\n",
       "      <td>7</td>\n",
       "    </tr>\n",
       "    <tr>\n",
       "      <th>983</th>\n",
       "      <td>MacGyver</td>\n",
       "      <td>6</td>\n",
       "    </tr>\n",
       "    <tr>\n",
       "      <th>...</th>\n",
       "      <td>...</td>\n",
       "      <td>...</td>\n",
       "    </tr>\n",
       "    <tr>\n",
       "      <th>764</th>\n",
       "      <td>Home of the Giants</td>\n",
       "      <td>1</td>\n",
       "    </tr>\n",
       "    <tr>\n",
       "      <th>763</th>\n",
       "      <td>Home and Away</td>\n",
       "      <td>1</td>\n",
       "    </tr>\n",
       "    <tr>\n",
       "      <th>762</th>\n",
       "      <td>Home Improvement</td>\n",
       "      <td>1</td>\n",
       "    </tr>\n",
       "    <tr>\n",
       "      <th>761</th>\n",
       "      <td>Home</td>\n",
       "      <td>1</td>\n",
       "    </tr>\n",
       "    <tr>\n",
       "      <th>2185</th>\n",
       "      <td>seaQuest DSV</td>\n",
       "      <td>1</td>\n",
       "    </tr>\n",
       "  </tbody>\n",
       "</table>\n",
       "<p>2186 rows × 2 columns</p>\n",
       "</div>"
      ],
      "text/plain": [
       "                         movie names  number of shared actors\n",
       "273   CSI: Crime Scene Investigation                        8\n",
       "2037                      Twin Peaks                        8\n",
       "836                              JAG                        7\n",
       "345                        Cold Case                        7\n",
       "983                         MacGyver                        6\n",
       "...                              ...                      ...\n",
       "764               Home of the Giants                        1\n",
       "763                    Home and Away                        1\n",
       "762                 Home Improvement                        1\n",
       "761                             Home                        1\n",
       "2185                    seaQuest DSV                        1\n",
       "\n",
       "[2186 rows x 2 columns]"
      ]
     },
     "execution_count": 6,
     "metadata": {},
     "output_type": "execute_result"
    }
   ],
   "source": [
    "# Filter out Mulholland Drive to only get other movies\n",
    "other_movies = movie[~movie['movie_or_TV_name'].isin(['Mulholland Dr.', 'Mulholland Drive'])]\n",
    "\n",
    "# Group by movie name and count unique actors\n",
    "movie_connections = other_movies.groupby('movie_or_TV_name')['actor'].nunique().reset_index()\n",
    "\n",
    "# Rename columns to match desired format\n",
    "movie_connections.columns = ['movie names', 'number of shared actors']\n",
    "\n",
    "# Sort by number of shared actors in descending order\n",
    "movie_recommendations = movie_connections.sort_values(by='number of shared actors', ascending=False)\n",
    "\n",
    "movie_recommendations"
   ]
  },
  {
   "cell_type": "markdown",
   "id": "97f124f2",
   "metadata": {},
   "source": [
    "### Visualizing the Result of Movie Recommendations\n",
    "Let's visualize the result we get above using a bar plot. For this visualization, we will look at the top 10 movies recommended by the scraper."
   ]
  },
  {
   "cell_type": "code",
   "execution_count": 7,
   "id": "d91e1103",
   "metadata": {},
   "outputs": [],
   "source": [
    "# import necessary libraries\n",
    "import plotly.io as pio\n",
    "pio.renderers.default=\"iframe\""
   ]
  },
  {
   "cell_type": "code",
   "execution_count": 9,
   "id": "846c961e-9767-422a-89a5-12af3917bc34",
   "metadata": {},
   "outputs": [
    {
     "data": {
      "text/html": [
       "<iframe\n",
       "    scrolling=\"no\"\n",
       "    width=\"100%\"\n",
       "    height=\"545px\"\n",
       "    src=\"iframe_figures/figure_9.html\"\n",
       "    frameborder=\"0\"\n",
       "    allowfullscreen\n",
       "></iframe>\n"
      ]
     },
     "metadata": {},
     "output_type": "display_data"
    }
   ],
   "source": [
    "from plotly import express as px\n",
    "\n",
    "fig = px.bar(movie_recommendations.head(10),\n",
    "            x='number of shared actors',\n",
    "            y='movie names',\n",
    "            orientation='h',\n",
    "            title='Top 10 Movies/TV Shows Recommended by the Scraper')\n",
    "\n",
    "fig.show()"
   ]
  },
  {
   "cell_type": "markdown",
   "id": "71a9320e",
   "metadata": {},
   "source": [
    "Great! Do these recommended movies meet your expectations? Or will there be better ways for us to generate better movie recommendations?"
   ]
  }
 ],
 "metadata": {
  "kernelspec": {
   "display_name": "Python [conda env:PIC16B-25W]",
   "language": "python",
   "name": "conda-env-PIC16B-25W-py"
  },
  "language_info": {
   "codemirror_mode": {
    "name": "ipython",
    "version": 3
   },
   "file_extension": ".py",
   "mimetype": "text/x-python",
   "name": "python",
   "nbconvert_exporter": "python",
   "pygments_lexer": "ipython3",
   "version": "3.11.6"
  }
 },
 "nbformat": 4,
 "nbformat_minor": 5
}
