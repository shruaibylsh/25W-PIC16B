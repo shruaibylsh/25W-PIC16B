{
 "cells": [
  {
   "cell_type": "raw",
   "id": "f1bc0204-b12d-4934-8c78-3809c83d2627",
   "metadata": {},
   "source": [
    "---\n",
    "title: \"Data Wrangling and Visualization\"\n",
    "author: \"Sihui Lin\"\n",
    "date: \"2025-02-02\"\n",
    "categories: [week 1, tutorials]\n",
    "---"
   ]
  },
  {
   "cell_type": "markdown",
   "id": "30c1cef8-8d2a-4d25-a39b-45d963815892",
   "metadata": {},
   "source": [
    "# Data Wrangling and Visualization\n",
    "\n",
    "In this tutorial, we will be exploring the National Oceanic and Atmospheric Administration (NOAA) climate data set. Using plotly and managing database through sqlite3, we will be creating several interesting and interactive data graphics."
   ]
  },
  {
   "cell_type": "markdown",
   "id": "c5ba7037-8115-4461-9a03-2aab1c19b8d2",
   "metadata": {},
   "source": [
    "## Create a Database\n",
    "\n",
    "First, let's create a database with three tables, `temperatures`, `stations`, and `countries`. They respectively record data on temperatures recorded at climate stations, information about climate stations, and information about countries."
   ]
  },
  {
   "cell_type": "markdown",
   "id": "bba1e84e",
   "metadata": {},
   "source": [
    "As always, we will import necessary libraries at the start."
   ]
  },
  {
   "cell_type": "code",
   "execution_count": 5,
   "id": "12f904a5-53ae-462f-8092-9d1622a255e6",
   "metadata": {},
   "outputs": [],
   "source": [
    "# import necessary libraries\n",
    "import pandas as pd\n",
    "import numpy as np\n",
    "import sqlite3\n",
    "import inspect\n",
    "import plotly.express as px\n",
    "import plotly.io as pio\n",
    "pio.renderers.default=\"iframe\""
   ]
  },
  {
   "cell_type": "markdown",
   "id": "ac8d2686",
   "metadata": {},
   "source": [
    "First, let's create a database connection and name it `climate.db`."
   ]
  },
  {
   "cell_type": "code",
   "execution_count": 7,
   "id": "25e965d9-2c77-4a66-8961-e7fe250a16c9",
   "metadata": {},
   "outputs": [],
   "source": [
    "# create database connection\n",
    "conn = sqlite3.connect(\"climate.db\")"
   ]
  },
  {
   "cell_type": "markdown",
   "id": "257789d1",
   "metadata": {},
   "source": [
    "Let's first download the files."
   ]
  },
  {
   "cell_type": "code",
   "execution_count": 9,
   "id": "ff084db6-8cf0-4623-be1f-c80dc108da2c",
   "metadata": {},
   "outputs": [],
   "source": [
    "# load the temperatures data\n",
    "\n",
    "import os\n",
    "# create folder named \"datafiles\" if it does not exist\n",
    "if not os.path.exists(\"datafiles\"): \n",
    "    os.mkdir(\"datafiles\")\n",
    "\n",
    "# download the files\n",
    "import urllib.request\n",
    "intervals = [f\"{i}-{i+9}\" for i in range(1901, 2020, 10)]\n",
    "for interval in intervals:\n",
    "    url = f\"https://raw.githubusercontent.com/PIC16B-ucla/25W/main/datasets/noaa-ghcn/decades/{interval}.csv\"\n",
    "    urllib.request.urlretrieve(url, f\"datafiles/{interval}.csv\")"
   ]
  },
  {
   "cell_type": "markdown",
   "id": "37b1f1e9",
   "metadata": {},
   "source": [
    "To format our dataframe from the wide format to the long format, we will write a function `prepare_df()` to help us prepare the dataframe for easier analysis. We will also clean the data by removing rows with temperature of NaN."
   ]
  },
  {
   "cell_type": "code",
   "execution_count": 11,
   "id": "e17faa54",
   "metadata": {},
   "outputs": [],
   "source": [
    "def prepare_df(df):\n",
    "    \"\"\"\n",
    "    prepares a piece of wide format dataframe into a long format data frame\n",
    "    \"\"\"\n",
    "    # melt to the long format table\n",
    "    df = df.melt(\n",
    "        id_vars = [\"ID\", \"Year\"],\n",
    "        value_vars = [f\"VALUE{i}\" for i in range(1, 13)],\n",
    "        var_name = \"Month\",\n",
    "        value_name = \"Temp\"\n",
    "    )\n",
    "\n",
    "    # cleaning month and temp\n",
    "    df[\"Month\"] = df[\"Month\"].str[5:].astype(int)\n",
    "    df[\"Temp\"]  = df[\"Temp\"] / 100\n",
    "    df = df[~np.isnan(df[\"Temp\"])] # remove rows with temperature of NaN \n",
    "\n",
    "    return df"
   ]
  },
  {
   "cell_type": "markdown",
   "id": "d29b90d6",
   "metadata": {},
   "source": [
    "Next, let's consolidate all the temperature data from 1901 to 2020 to a single table, which will then be added to the climate database."
   ]
  },
  {
   "cell_type": "code",
   "execution_count": 13,
   "id": "5133a400-f012-4aa7-8eef-fcfbe2a2d41a",
   "metadata": {},
   "outputs": [],
   "source": [
    "# add the temperatures table to the database\n",
    "intervals = [f\"{i}-{i+9}\" for i in range(1901, 2020, 10)]\n",
    "for i, interval in enumerate(intervals):\n",
    "    filepath = f\"datafiles/{interval}.csv\"\n",
    "    df = pd.read_csv(filepath)\n",
    "    df = prepare_df(df)\n",
    "    df.to_sql(\"temperatures\", conn, if_exists = \"replace\" if i == 0 else \"append\", index = False)"
   ]
  },
  {
   "cell_type": "markdown",
   "id": "a22e12fa",
   "metadata": {},
   "source": [
    "The data for stations and countries, respectively stored in a single csv file, will then be loaded and added as tables to the database."
   ]
  },
  {
   "cell_type": "code",
   "execution_count": 15,
   "id": "e239efc5-66cd-4bb2-9c8e-56dd0cd9f132",
   "metadata": {},
   "outputs": [
    {
     "data": {
      "text/plain": [
       "279"
      ]
     },
     "execution_count": 15,
     "metadata": {},
     "output_type": "execute_result"
    }
   ],
   "source": [
    "# add the stations table to the database\n",
    "stations = pd.read_csv(\"https://raw.githubusercontent.com/PIC16B-ucla/25W/refs/heads/main/datasets/noaa-ghcn/station-metadata.csv\")\n",
    "stations.to_sql(\"stations\", conn, if_exists = \"replace\", index=False)\n",
    "\n",
    "# add the countries table to the database\n",
    "countries = pd.read_csv(\"https://raw.githubusercontent.com/mysociety/gaze/master/data/fips-10-4-to-iso-country-codes.csv\")\n",
    "countries.to_sql(\"countries\", conn, if_exists = \"replace\", index=False)"
   ]
  },
  {
   "cell_type": "markdown",
   "id": "e4a40ac8-37d8-4918-80d7-f96388886fd0",
   "metadata": {},
   "source": [
    "Now let's verify whether we have successfully added the three tables to our database. We can also check the names of their columns."
   ]
  },
  {
   "cell_type": "code",
   "execution_count": 17,
   "id": "94376aa5-36f9-4901-b0d1-61cf1ff3e5b0",
   "metadata": {},
   "outputs": [
    {
     "name": "stdout",
     "output_type": "stream",
     "text": [
      "CREATE TABLE \"temperatures\" (\n",
      "\"ID\" TEXT,\n",
      "  \"Year\" INTEGER,\n",
      "  \"Month\" INTEGER,\n",
      "  \"Temp\" REAL\n",
      ")\n",
      "CREATE TABLE \"stations\" (\n",
      "\"ID\" TEXT,\n",
      "  \"LATITUDE\" REAL,\n",
      "  \"LONGITUDE\" REAL,\n",
      "  \"STNELEV\" REAL,\n",
      "  \"NAME\" TEXT\n",
      ")\n",
      "CREATE TABLE \"countries\" (\n",
      "\"FIPS 10-4\" TEXT,\n",
      "  \"ISO 3166\" TEXT,\n",
      "  \"Name\" TEXT\n",
      ")\n"
     ]
    }
   ],
   "source": [
    "cursor = conn.cursor()\n",
    "cursor.execute(\"SELECT sql FROM sqlite_master WHERE type='table';\")\n",
    "\n",
    "for result in cursor.fetchall():\n",
    "    print(result[0])"
   ]
  },
  {
   "cell_type": "markdown",
   "id": "6aca57e2-d0af-4512-a9eb-2b8b59409d5b",
   "metadata": {},
   "source": [
    "Remember to close the database connection after finishing constructing the database!"
   ]
  },
  {
   "cell_type": "code",
   "execution_count": 19,
   "id": "05af37d4-edb4-4d17-8860-89a3f497c701",
   "metadata": {},
   "outputs": [],
   "source": [
    "conn.close()"
   ]
  },
  {
   "cell_type": "markdown",
   "id": "663360df-411a-4003-972b-087173ed5a40",
   "metadata": {},
   "source": [
    "## Write a Query Function"
   ]
  },
  {
   "cell_type": "markdown",
   "id": "1066fcd1-6b7f-4eea-812a-e52453beb5f0",
   "metadata": {},
   "source": [
    "Now, let's write a query function called `query_climate_database` that makes our workflow easier. This function is designed to help us retrieve information from the climate database all at once, such that we do not need to work on the three tables separately.\n",
    "\n",
    "The function will take in several input parameters that specifies the country and time range for data extraction from the climate database, and will output a dataframe displaying comprehensive information including stations in this country, their location, time for temperature records, and the recorded temperature. Let's take a close look at the function:"
   ]
  },
  {
   "cell_type": "code",
   "execution_count": 22,
   "id": "fdbb05d5-3fd6-42c0-819a-aed0499692a6",
   "metadata": {},
   "outputs": [
    {
     "name": "stdout",
     "output_type": "stream",
     "text": [
      "def query_climate_database(db_file, country, year_begin, year_end, month):\n",
      "    \"\"\"\n",
      "    input:\n",
      "    db_file: the file name for the database\n",
      "    country: a string giving the name of a country for which data should be returned.\n",
      "    year_begin and year_end: two integers giving the earliest and latest years for which should be returned (inclusive).\n",
      "    month: an integer giving the month of the year for which should be returned.\n",
      "    \n",
      "    output (dataframe):\n",
      "    NAME: The station name.\n",
      "    LATITUDE: The latitude of the station.\n",
      "    LONGITUDE: The longitude of the station.\n",
      "    Country: The name of the country in which the station is located.\n",
      "    Year: The year in which the reading was taken.\n",
      "    Month: The month in which the reading was taken.\n",
      "    Temp: The average temperature at the specified station during the specified year and month.\n",
      "    \"\"\"\n",
      "\n",
      "    # connect to database\n",
      "    conn = sqlite3.connect(db_file)\n",
      "\n",
      "    # write sql command using f-strings\n",
      "    command = f\"\"\"\n",
      "    SELECT S.NAME, S.LATITUDE, S.LONGITUDE, C.Name AS Country, T.Year, T.Month, T.Temp\n",
      "    FROM temperatures T\n",
      "    LEFT JOIN stations S\n",
      "    ON T.id = S.id\n",
      "    LEFT JOIN countries C\n",
      "    ON SUBSTR(T.ID, 1, 2) = C.\"FIPS 10-4\"\n",
      "    WHERE C.Name = \"{country}\"\n",
      "    AND T.Year >= {year_begin}\n",
      "    AND T.Year <= {year_end}\n",
      "    AND T.Month = {month}\n",
      "    ORDER BY S.NAME, T.Year, T.Month\n",
      "    \"\"\"\n",
      "\n",
      "    df = pd.read_sql_query(command, conn)\n",
      "    conn.close()\n",
      "    return df\n",
      "\n"
     ]
    }
   ],
   "source": [
    "from climate_database import query_climate_database\n",
    "print(inspect.getsource(query_climate_database))"
   ]
  },
  {
   "cell_type": "markdown",
   "id": "1f07b3ac",
   "metadata": {},
   "source": [
    "Now let's use this function to retrieve some data from the climate database. Looking at India's temperature data in January from 1980 to 2020, we get:"
   ]
  },
  {
   "cell_type": "code",
   "execution_count": 24,
   "id": "9b9b6ce0-c440-4405-b0fc-3d8355e06d99",
   "metadata": {},
   "outputs": [
    {
     "data": {
      "text/html": [
       "<div>\n",
       "<style scoped>\n",
       "    .dataframe tbody tr th:only-of-type {\n",
       "        vertical-align: middle;\n",
       "    }\n",
       "\n",
       "    .dataframe tbody tr th {\n",
       "        vertical-align: top;\n",
       "    }\n",
       "\n",
       "    .dataframe thead th {\n",
       "        text-align: right;\n",
       "    }\n",
       "</style>\n",
       "<table border=\"1\" class=\"dataframe\">\n",
       "  <thead>\n",
       "    <tr style=\"text-align: right;\">\n",
       "      <th></th>\n",
       "      <th>NAME</th>\n",
       "      <th>LATITUDE</th>\n",
       "      <th>LONGITUDE</th>\n",
       "      <th>Country</th>\n",
       "      <th>Year</th>\n",
       "      <th>Month</th>\n",
       "      <th>Temp</th>\n",
       "    </tr>\n",
       "  </thead>\n",
       "  <tbody>\n",
       "    <tr>\n",
       "      <th>0</th>\n",
       "      <td>AGARTALA</td>\n",
       "      <td>23.883</td>\n",
       "      <td>91.250</td>\n",
       "      <td>India</td>\n",
       "      <td>1980</td>\n",
       "      <td>1</td>\n",
       "      <td>18.21</td>\n",
       "    </tr>\n",
       "    <tr>\n",
       "      <th>1</th>\n",
       "      <td>AGARTALA</td>\n",
       "      <td>23.883</td>\n",
       "      <td>91.250</td>\n",
       "      <td>India</td>\n",
       "      <td>1981</td>\n",
       "      <td>1</td>\n",
       "      <td>18.25</td>\n",
       "    </tr>\n",
       "    <tr>\n",
       "      <th>2</th>\n",
       "      <td>AGARTALA</td>\n",
       "      <td>23.883</td>\n",
       "      <td>91.250</td>\n",
       "      <td>India</td>\n",
       "      <td>1982</td>\n",
       "      <td>1</td>\n",
       "      <td>19.31</td>\n",
       "    </tr>\n",
       "    <tr>\n",
       "      <th>3</th>\n",
       "      <td>AGARTALA</td>\n",
       "      <td>23.883</td>\n",
       "      <td>91.250</td>\n",
       "      <td>India</td>\n",
       "      <td>1985</td>\n",
       "      <td>1</td>\n",
       "      <td>19.25</td>\n",
       "    </tr>\n",
       "    <tr>\n",
       "      <th>4</th>\n",
       "      <td>AGARTALA</td>\n",
       "      <td>23.883</td>\n",
       "      <td>91.250</td>\n",
       "      <td>India</td>\n",
       "      <td>1988</td>\n",
       "      <td>1</td>\n",
       "      <td>19.54</td>\n",
       "    </tr>\n",
       "    <tr>\n",
       "      <th>...</th>\n",
       "      <td>...</td>\n",
       "      <td>...</td>\n",
       "      <td>...</td>\n",
       "      <td>...</td>\n",
       "      <td>...</td>\n",
       "      <td>...</td>\n",
       "      <td>...</td>\n",
       "    </tr>\n",
       "    <tr>\n",
       "      <th>3147</th>\n",
       "      <td>VISHAKHAPATNAM</td>\n",
       "      <td>17.717</td>\n",
       "      <td>83.233</td>\n",
       "      <td>India</td>\n",
       "      <td>2016</td>\n",
       "      <td>1</td>\n",
       "      <td>25.09</td>\n",
       "    </tr>\n",
       "    <tr>\n",
       "      <th>3148</th>\n",
       "      <td>VISHAKHAPATNAM</td>\n",
       "      <td>17.717</td>\n",
       "      <td>83.233</td>\n",
       "      <td>India</td>\n",
       "      <td>2017</td>\n",
       "      <td>1</td>\n",
       "      <td>23.90</td>\n",
       "    </tr>\n",
       "    <tr>\n",
       "      <th>3149</th>\n",
       "      <td>VISHAKHAPATNAM</td>\n",
       "      <td>17.717</td>\n",
       "      <td>83.233</td>\n",
       "      <td>India</td>\n",
       "      <td>2018</td>\n",
       "      <td>1</td>\n",
       "      <td>22.65</td>\n",
       "    </tr>\n",
       "    <tr>\n",
       "      <th>3150</th>\n",
       "      <td>VISHAKHAPATNAM</td>\n",
       "      <td>17.717</td>\n",
       "      <td>83.233</td>\n",
       "      <td>India</td>\n",
       "      <td>2019</td>\n",
       "      <td>1</td>\n",
       "      <td>22.20</td>\n",
       "    </tr>\n",
       "    <tr>\n",
       "      <th>3151</th>\n",
       "      <td>VISHAKHAPATNAM</td>\n",
       "      <td>17.717</td>\n",
       "      <td>83.233</td>\n",
       "      <td>India</td>\n",
       "      <td>2020</td>\n",
       "      <td>1</td>\n",
       "      <td>23.75</td>\n",
       "    </tr>\n",
       "  </tbody>\n",
       "</table>\n",
       "<p>3152 rows × 7 columns</p>\n",
       "</div>"
      ],
      "text/plain": [
       "                NAME  LATITUDE  LONGITUDE Country  Year  Month   Temp\n",
       "0           AGARTALA    23.883     91.250   India  1980      1  18.21\n",
       "1           AGARTALA    23.883     91.250   India  1981      1  18.25\n",
       "2           AGARTALA    23.883     91.250   India  1982      1  19.31\n",
       "3           AGARTALA    23.883     91.250   India  1985      1  19.25\n",
       "4           AGARTALA    23.883     91.250   India  1988      1  19.54\n",
       "...              ...       ...        ...     ...   ...    ...    ...\n",
       "3147  VISHAKHAPATNAM    17.717     83.233   India  2016      1  25.09\n",
       "3148  VISHAKHAPATNAM    17.717     83.233   India  2017      1  23.90\n",
       "3149  VISHAKHAPATNAM    17.717     83.233   India  2018      1  22.65\n",
       "3150  VISHAKHAPATNAM    17.717     83.233   India  2019      1  22.20\n",
       "3151  VISHAKHAPATNAM    17.717     83.233   India  2020      1  23.75\n",
       "\n",
       "[3152 rows x 7 columns]"
      ]
     },
     "execution_count": 24,
     "metadata": {},
     "output_type": "execute_result"
    }
   ],
   "source": [
    "query_climate_database(db_file = \"climate.db\",\n",
    "                       country = \"India\", \n",
    "                       year_begin = 1980, \n",
    "                       year_end = 2020,\n",
    "                       month = 1)"
   ]
  },
  {
   "cell_type": "markdown",
   "id": "1b5bf023",
   "metadata": {},
   "source": [
    "## Write a Geographic Scatter Function for Yearly Temperature Increases"
   ]
  },
  {
   "cell_type": "markdown",
   "id": "270e1996",
   "metadata": {},
   "source": [
    "Now that we have played around with our database, let's explore it and create some interesting visualizations."
   ]
  },
  {
   "cell_type": "markdown",
   "id": "a222bbb4",
   "metadata": {},
   "source": [
    "Our guiding question will be: How does the average yearly change in temperature vary within a given country?\n",
    "\n",
    "In order to create an interesting visualization to answer this question, let us create a geographic scatterplot in plotly express. Each point on the plot will represent the location of a station, and the color of the point reflects an estimate of the yearly change in temperature during the specific month and time period at that station."
   ]
  },
  {
   "cell_type": "code",
   "execution_count": 28,
   "id": "75fbea1f-ee4a-459c-925b-283945cecc78",
   "metadata": {},
   "outputs": [
    {
     "name": "stdout",
     "output_type": "stream",
     "text": [
      "def temperature_coefficient_plot(db_file, country, year_begin, year_end, month, min_obs, **kwargs):\n",
      "    \"\"\"\n",
      "    inputs:\n",
      "    the first five are the same\n",
      "    min_obs: the minimum required number of years of data for any given station\n",
      "    **kwargs: additional keyword arguments passed to px.scatter_mapbox()\n",
      "    \"\"\"\n",
      "    \n",
      "    # query the database using the function we wrote earlier\n",
      "    df = query_climate_database(db_file, country, year_begin, year_end, month)\n",
      "\n",
      "    # filter to have stations which has more than or equal to min_obs\n",
      "    df = df.groupby([\"NAME\", \"LATITUDE\", \"LONGITUDE\"]).filter(lambda group: len(group) >= min_obs)\n",
      "\n",
      "    # compute the first coefficient of a linear regression model at a given station\n",
      "    def coef(data_group):\n",
      "        x = data_group[[\"Year\"]]\n",
      "        y = data_group[\"Temp\"]\n",
      "        LR = LinearRegression()\n",
      "        LR.fit(x, y)\n",
      "        return LR.coef_[0]\n",
      "    \n",
      "    coefs = df.groupby([\"NAME\", \"LATITUDE\", \"LONGITUDE\"]).apply(coef).reset_index(name = \"temp_diff\")\n",
      "\n",
      "    month_name = calendar.month_name[month]\n",
      "\n",
      "    fig = px.scatter_mapbox(coefs,\n",
      "                         lat = \"LATITUDE\",\n",
      "                         lon = \"LONGITUDE\",\n",
      "                         color = \"temp_diff\",\n",
      "                         range_color = [-0.15, 0.15],\n",
      "                         hover_name = \"NAME\",\n",
      "                         hover_data = {\n",
      "                            \"LATITUDE\": \":.3f\",\n",
      "                            \"LONGITUDE\": \":.3f\",\n",
      "                            \"temp_diff\": \":.3f\"\n",
      "                         },\n",
      "                         labels = {\n",
      "                             \"LATITUDE\": \"LATITUDE\",\n",
      "                             \"LONGITUDE\": \"LONGITUDE\",\n",
      "                             \"temp_diff\": \"Estimated Yearly Increase (°C)\"\n",
      "                         },\n",
      "                         title = f\"Yearly temperature increase estimates in {month_name}<br>for {country} stations, {year_begin} to {year_end}\",\n",
      "                         **kwargs)\n",
      "    \n",
      "    return fig\n",
      "\n"
     ]
    }
   ],
   "source": [
    "from climate_database import temperature_coefficient_plot\n",
    "print(inspect.getsource(temperature_coefficient_plot))"
   ]
  },
  {
   "cell_type": "markdown",
   "id": "a2471bcd",
   "metadata": {},
   "source": [
    "Now let's take a look at the January climate data in India from 1980 to 2020. What will it be like when we visualize it using the function we have written?"
   ]
  },
  {
   "cell_type": "code",
   "execution_count": 30,
   "id": "469fc2ba",
   "metadata": {},
   "outputs": [
    {
     "data": {
      "text/html": [
       "<iframe\n",
       "    scrolling=\"no\"\n",
       "    width=\"100%\"\n",
       "    height=\"545px\"\n",
       "    src=\"iframe_figures/figure_30.html\"\n",
       "    frameborder=\"0\"\n",
       "    allowfullscreen\n",
       "></iframe>\n"
      ]
     },
     "metadata": {},
     "output_type": "display_data"
    }
   ],
   "source": [
    "# assumes you have imported necessary packages\n",
    "color_map = px.colors.diverging.RdGy_r # choose a colormap\n",
    "\n",
    "fig = temperature_coefficient_plot(\"climate.db\", \"India\", 1980, 2020, 1, \n",
    "                                   min_obs = 10,\n",
    "                                   zoom = 2,\n",
    "                                   mapbox_style=\"carto-positron\",\n",
    "                                   color_continuous_scale=color_map)\n",
    "\n",
    "fig.show()"
   ]
  },
  {
   "cell_type": "markdown",
   "id": "56c00fde",
   "metadata": {},
   "source": [
    "Let's use the same function on another time frame for another country. For example, let's look at the temperature change in Germany from the year 2000 to 2020 in March. What will our map be like?"
   ]
  },
  {
   "cell_type": "code",
   "execution_count": 32,
   "id": "db2dc3db",
   "metadata": {},
   "outputs": [
    {
     "data": {
      "text/html": [
       "<iframe\n",
       "    scrolling=\"no\"\n",
       "    width=\"100%\"\n",
       "    height=\"545px\"\n",
       "    src=\"iframe_figures/figure_32.html\"\n",
       "    frameborder=\"0\"\n",
       "    allowfullscreen\n",
       "></iframe>\n"
      ]
     },
     "metadata": {},
     "output_type": "display_data"
    }
   ],
   "source": [
    "color_map = px.colors.diverging.Tropic # choose a colormap\n",
    "\n",
    "fig = temperature_coefficient_plot(\"climate.db\", \"Germany\", 2000, 2020, 3, \n",
    "                                   min_obs = 20,\n",
    "                                   zoom = 4,\n",
    "                                   mapbox_style=\"carto-positron\",\n",
    "                                   color_continuous_scale=color_map)\n",
    "\n",
    "fig.show()"
   ]
  },
  {
   "cell_type": "markdown",
   "id": "b914bbfa",
   "metadata": {},
   "source": [
    "## Create Two More Interesting Figures\n",
    "Now that we have created a geographic visualization of the dataset, let's go ahead and create two more interesting figures from the data.\n",
    "\n",
    "Let's explore the relationship between station elevation and temperature variability. Our analysis will focus on understanding how stations at different elevations experience temperature changes throughout the year, which could provide valuable insights into local climate patterns."
   ]
  },
  {
   "cell_type": "markdown",
   "id": "c99ca50e",
   "metadata": {},
   "source": [
    "Let's create another querying function called `query_station_temperature_data` to retrieve data from the climate database at once. This function retrieves station-level temperature data for a given country and time, and only selects stations with more than 3 readings in the same month across years."
   ]
  },
  {
   "cell_type": "code",
   "execution_count": 35,
   "id": "a3f66b56",
   "metadata": {},
   "outputs": [
    {
     "name": "stdout",
     "output_type": "stream",
     "text": [
      "def query_station_temperature_data(db_file, country, year_begin, year_end, month):\n",
      "    \"\"\"\n",
      "    input:\n",
      "    db_file: the file name for the database.\n",
      "    country: a string giving the name of a country.\n",
      "    year_begin, year_end: start and end year (inclusive)\n",
      "    month: specific month.\n",
      "\n",
      "    output: a dataframe with the following columns\n",
      "    NAME: name of the station\n",
      "    LATITUDE, LONGITUDE: location of the station\n",
      "    STNELEV: elevation of the station\n",
      "    Country: the name of the country in which the station is located.\n",
      "    Year: the Year for the reading\n",
      "    Month: the Month for the reading\n",
      "    Temp_Range: range of temperature in the station\n",
      "    Num_Readings: number of readings for the station\n",
      "    \"\"\"\n",
      "\n",
      "    # connect to database\n",
      "    conn = sqlite3.connect(db_file)\n",
      "\n",
      "\n",
      "    # write sql command using f-strings\n",
      "    # only select stations with more than 3 readings in a same month across years\n",
      "    command = f\"\"\"\n",
      "    WITH yearly_station_counts AS (\n",
      "        SELECT S.NAME, COUNT(DISTINCT T.Year) as year_count\n",
      "        FROM temperatures T\n",
      "        LEFT JOIN stations S ON T.id = S.id\n",
      "        LEFT JOIN countries C ON SUBSTR(T.ID, 1, 2) = C.\"FIPS 10-4\"\n",
      "        WHERE C.Name = \"{country}\"\n",
      "        AND T.Year >= {year_begin}\n",
      "        AND T.Year <= {year_end}\n",
      "        AND T.Month = {month}\n",
      "        GROUP BY S.NAME\n",
      "        HAVING year_count >= 3\n",
      "    )\n",
      "    SELECT \n",
      "        S.NAME, S.LATITUDE, S.LONGITUDE, S.STNELEV,\n",
      "        C.Name AS Country, \n",
      "        T.Month,\n",
      "        MAX(T.Temp) - MIN(T.Temp) AS Temp_Range\n",
      "    FROM temperatures T\n",
      "    LEFT JOIN stations S ON T.id = S.id\n",
      "    LEFT JOIN countries C ON SUBSTR(T.ID, 1, 2) = C.\"FIPS 10-4\"\n",
      "    INNER JOIN yearly_station_counts ysc ON S.NAME = ysc.NAME\n",
      "    WHERE C.Name = \"{country}\"\n",
      "    AND T.Year >= {year_begin}\n",
      "    AND T.Year <= {year_end}\n",
      "    AND T.Month = {month}\n",
      "    GROUP BY S.NAME, S.LATITUDE, S.LONGITUDE, S.STNELEV\n",
      "    \"\"\"\n",
      "\n",
      "    df = pd.read_sql_query(command, conn)\n",
      "    conn.close()\n",
      "    return df\n",
      "\n"
     ]
    }
   ],
   "source": [
    "from climate_database import query_station_temperature_data\n",
    "print(inspect.getsource(query_station_temperature_data))"
   ]
  },
  {
   "cell_type": "markdown",
   "id": "a24a3836",
   "metadata": {},
   "source": [
    "Let's check the output of this query function using the same example we have before."
   ]
  },
  {
   "cell_type": "code",
   "execution_count": 37,
   "id": "8f82e251",
   "metadata": {},
   "outputs": [
    {
     "data": {
      "text/html": [
       "<div>\n",
       "<style scoped>\n",
       "    .dataframe tbody tr th:only-of-type {\n",
       "        vertical-align: middle;\n",
       "    }\n",
       "\n",
       "    .dataframe tbody tr th {\n",
       "        vertical-align: top;\n",
       "    }\n",
       "\n",
       "    .dataframe thead th {\n",
       "        text-align: right;\n",
       "    }\n",
       "</style>\n",
       "<table border=\"1\" class=\"dataframe\">\n",
       "  <thead>\n",
       "    <tr style=\"text-align: right;\">\n",
       "      <th></th>\n",
       "      <th>NAME</th>\n",
       "      <th>LATITUDE</th>\n",
       "      <th>LONGITUDE</th>\n",
       "      <th>STNELEV</th>\n",
       "      <th>Country</th>\n",
       "      <th>Month</th>\n",
       "      <th>Temp_Range</th>\n",
       "    </tr>\n",
       "  </thead>\n",
       "  <tbody>\n",
       "    <tr>\n",
       "      <th>0</th>\n",
       "      <td>AGARTALA</td>\n",
       "      <td>23.8830</td>\n",
       "      <td>91.2500</td>\n",
       "      <td>16.0</td>\n",
       "      <td>India</td>\n",
       "      <td>1</td>\n",
       "      <td>2.95</td>\n",
       "    </tr>\n",
       "    <tr>\n",
       "      <th>1</th>\n",
       "      <td>AGRA</td>\n",
       "      <td>27.1667</td>\n",
       "      <td>78.0333</td>\n",
       "      <td>168.0</td>\n",
       "      <td>India</td>\n",
       "      <td>1</td>\n",
       "      <td>2.20</td>\n",
       "    </tr>\n",
       "    <tr>\n",
       "      <th>2</th>\n",
       "      <td>AHMADABAD</td>\n",
       "      <td>23.0670</td>\n",
       "      <td>72.6330</td>\n",
       "      <td>55.0</td>\n",
       "      <td>India</td>\n",
       "      <td>1</td>\n",
       "      <td>3.54</td>\n",
       "    </tr>\n",
       "    <tr>\n",
       "      <th>3</th>\n",
       "      <td>AKOLA</td>\n",
       "      <td>20.7000</td>\n",
       "      <td>77.0330</td>\n",
       "      <td>282.0</td>\n",
       "      <td>India</td>\n",
       "      <td>1</td>\n",
       "      <td>4.60</td>\n",
       "    </tr>\n",
       "    <tr>\n",
       "      <th>4</th>\n",
       "      <td>AKOLA</td>\n",
       "      <td>20.7000</td>\n",
       "      <td>77.0670</td>\n",
       "      <td>305.0</td>\n",
       "      <td>India</td>\n",
       "      <td>1</td>\n",
       "      <td>3.63</td>\n",
       "    </tr>\n",
       "    <tr>\n",
       "      <th>...</th>\n",
       "      <td>...</td>\n",
       "      <td>...</td>\n",
       "      <td>...</td>\n",
       "      <td>...</td>\n",
       "      <td>...</td>\n",
       "      <td>...</td>\n",
       "      <td>...</td>\n",
       "    </tr>\n",
       "    <tr>\n",
       "      <th>92</th>\n",
       "      <td>TIRUCHCHIRAPALLI</td>\n",
       "      <td>10.7670</td>\n",
       "      <td>78.7170</td>\n",
       "      <td>88.0</td>\n",
       "      <td>India</td>\n",
       "      <td>1</td>\n",
       "      <td>2.79</td>\n",
       "    </tr>\n",
       "    <tr>\n",
       "      <th>93</th>\n",
       "      <td>TRIVANDRUM</td>\n",
       "      <td>8.5000</td>\n",
       "      <td>77.0000</td>\n",
       "      <td>64.0</td>\n",
       "      <td>India</td>\n",
       "      <td>1</td>\n",
       "      <td>2.10</td>\n",
       "    </tr>\n",
       "    <tr>\n",
       "      <th>94</th>\n",
       "      <td>VARANASI_BABATPUR</td>\n",
       "      <td>25.4500</td>\n",
       "      <td>82.8670</td>\n",
       "      <td>85.0</td>\n",
       "      <td>India</td>\n",
       "      <td>1</td>\n",
       "      <td>0.93</td>\n",
       "    </tr>\n",
       "    <tr>\n",
       "      <th>95</th>\n",
       "      <td>VERAVAL</td>\n",
       "      <td>20.9000</td>\n",
       "      <td>70.3670</td>\n",
       "      <td>8.0</td>\n",
       "      <td>India</td>\n",
       "      <td>1</td>\n",
       "      <td>3.47</td>\n",
       "    </tr>\n",
       "    <tr>\n",
       "      <th>96</th>\n",
       "      <td>VISHAKHAPATNAM</td>\n",
       "      <td>17.7170</td>\n",
       "      <td>83.2330</td>\n",
       "      <td>3.0</td>\n",
       "      <td>India</td>\n",
       "      <td>1</td>\n",
       "      <td>3.00</td>\n",
       "    </tr>\n",
       "  </tbody>\n",
       "</table>\n",
       "<p>97 rows × 7 columns</p>\n",
       "</div>"
      ],
      "text/plain": [
       "                 NAME  LATITUDE  LONGITUDE  STNELEV Country  Month  Temp_Range\n",
       "0            AGARTALA   23.8830    91.2500     16.0   India      1        2.95\n",
       "1                AGRA   27.1667    78.0333    168.0   India      1        2.20\n",
       "2           AHMADABAD   23.0670    72.6330     55.0   India      1        3.54\n",
       "3               AKOLA   20.7000    77.0330    282.0   India      1        4.60\n",
       "4               AKOLA   20.7000    77.0670    305.0   India      1        3.63\n",
       "..                ...       ...        ...      ...     ...    ...         ...\n",
       "92   TIRUCHCHIRAPALLI   10.7670    78.7170     88.0   India      1        2.79\n",
       "93         TRIVANDRUM    8.5000    77.0000     64.0   India      1        2.10\n",
       "94  VARANASI_BABATPUR   25.4500    82.8670     85.0   India      1        0.93\n",
       "95            VERAVAL   20.9000    70.3670      8.0   India      1        3.47\n",
       "96     VISHAKHAPATNAM   17.7170    83.2330      3.0   India      1        3.00\n",
       "\n",
       "[97 rows x 7 columns]"
      ]
     },
     "execution_count": 37,
     "metadata": {},
     "output_type": "execute_result"
    }
   ],
   "source": [
    "query_station_temperature_data(db_file = \"climate.db\",\n",
    "                               country = \"India\", \n",
    "                               year_begin = 1980,\n",
    "                               year_end = 2000,\n",
    "                               month = 1)"
   ]
  },
  {
   "cell_type": "markdown",
   "id": "4d6d9cc6",
   "metadata": {},
   "source": [
    "With the help of the querying function, we can now answer the first question: How does temperature variability differ between high-elevation and low-elevation stations in a country in a given month? \n",
    "\n",
    "We will create an interactive box plot. The X-axis will be the elevation bins, whereas the Y-axis will represent temperature range per station."
   ]
  },
  {
   "cell_type": "code",
   "execution_count": 39,
   "id": "f32a8d11",
   "metadata": {},
   "outputs": [
    {
     "name": "stdout",
     "output_type": "stream",
     "text": [
      "def plot_elevation_temp_variability(db_file, country, year_begin, year_end, month, num_bins=5):\n",
      "\n",
      "    \"\"\"\n",
      "    input:\n",
      "    db_file: database file path\n",
      "    country: country name\n",
      "    year_begin, year_end: time period to analyze\n",
      "    month: month to analyze (1-12)\n",
      "    num_bins: number of elevation bins to create\n",
      "    \"\"\"\n",
      "    # Get the data\n",
      "    df = query_station_temperature_data(db_file, country, year_begin, year_end, month)\n",
      "    \n",
      "    # Create elevation bins\n",
      "    df['Elevation_Bin'] = pd.qcut(df['STNELEV'], \n",
      "                                q=num_bins, \n",
      "                                labels=[f'{int(x.left)}-{int(x.right)}m' \n",
      "                                       for x in pd.qcut(df['STNELEV'], q=num_bins).unique()])\n",
      "    \n",
      "    # Create box plot\n",
      "    fig = px.box(\n",
      "        df,\n",
      "        x='Elevation_Bin',\n",
      "        y='Temp_Range',\n",
      "        points='all',  # Show all points\n",
      "        hover_data=['NAME', 'STNELEV'],  # Show station details on hover\n",
      "        labels={\n",
      "            'Elevation_Bin': 'Elevation Range',\n",
      "            'Temp_Range': 'Temperature Range (°C)',\n",
      "            'NAME': 'Station Name',\n",
      "            'STNELEV': 'Exact Elevation (m)'\n",
      "        },\n",
      "        title=f'Temperature Variability Across Elevation Ranges in {country}<br>{year_begin} to {year_end}, Month {month}'\n",
      "    )\n",
      "    \n",
      "    # Enhance layout\n",
      "    fig.update_layout(\n",
      "        height=600,\n",
      "        width=900,\n",
      "        title_x=0.5,\n",
      "        template='plotly_white',\n",
      "        xaxis_title=f'Elevation Ranges (divided into {num_bins} groups)'\n",
      "    )\n",
      "    \n",
      "    return fig\n",
      "\n"
     ]
    }
   ],
   "source": [
    "from climate_database import plot_elevation_temp_variability\n",
    "print(inspect.getsource(plot_elevation_temp_variability))"
   ]
  },
  {
   "cell_type": "markdown",
   "id": "f278b607",
   "metadata": {},
   "source": [
    "Let's generate the graph:"
   ]
  },
  {
   "cell_type": "code",
   "execution_count": 41,
   "id": "ed6c8fe4",
   "metadata": {},
   "outputs": [
    {
     "data": {
      "text/html": [
       "<iframe\n",
       "    scrolling=\"no\"\n",
       "    width=\"920px\"\n",
       "    height=\"620\"\n",
       "    src=\"iframe_figures/figure_41.html\"\n",
       "    frameborder=\"0\"\n",
       "    allowfullscreen\n",
       "></iframe>\n"
      ]
     },
     "metadata": {},
     "output_type": "display_data"
    }
   ],
   "source": [
    "fig = plot_elevation_temp_variability(\"climate.db\", \"India\", 1980, 2020, 1, num_bins=5)\n",
    "fig.show()"
   ]
  },
  {
   "cell_type": "markdown",
   "id": "cd8a8205",
   "metadata": {},
   "source": [
    "Great. Now let's answer our second question: How does the correlation between elevation and temperature variability change over time?\n",
    "\n",
    "We will created a faceted scatter plot, where the x-axis is the elvation, and y-axis represents the temperature range. We will also add a trendline showing linear regression per decade."
   ]
  },
  {
   "cell_type": "code",
   "execution_count": 43,
   "id": "0e526fbe",
   "metadata": {},
   "outputs": [
    {
     "name": "stdout",
     "output_type": "stream",
     "text": [
      "def plot_elevation_temp_trends(db_file, country, decade_ranges, month, max_elevation = 9000):\n",
      "    \"\"\"\n",
      "    input:\n",
      "    db_file: database file path\n",
      "    country: country name\n",
      "    decade_ranges: list of tuples, each containing (start_year, end_year) for a decade\n",
      "    month: month to analyze (1-12)\n",
      "    \"\"\"\n",
      "\n",
      "    # Initialize list to store data from each decade\n",
      "    decade_data = []\n",
      "    \n",
      "    # Collect data for each decade\n",
      "    for start_year, end_year in decade_ranges:\n",
      "        df = query_station_temperature_data(db_file, country, start_year, end_year, month)\n",
      "        # Filter out stations with unrealistic elevations\n",
      "        df = df[df['STNELEV'] <= max_elevation]\n",
      "        df['Decade'] = f'{start_year}s'\n",
      "        decade_data.append(df)\n",
      "    \n",
      "    # Combine all decades' data\n",
      "    combined_df = pd.concat(decade_data, ignore_index=True)\n",
      "    \n",
      "    # Create the title string including the max elevation\n",
      "    title_string = f'Evolution of Elevation-Temperature Relationship in {country}<br>Month {month} (Stations below {max_elevation}m)'\n",
      "    \n",
      "    # Create faceted scatter plot\n",
      "    fig = px.scatter(\n",
      "        combined_df,\n",
      "        x='STNELEV',\n",
      "        y='Temp_Range',\n",
      "        facet_col='Decade',\n",
      "        facet_col_wrap=2,\n",
      "        trendline='ols',\n",
      "        hover_data=['NAME', 'LATITUDE', 'LONGITUDE'],\n",
      "        labels={\n",
      "            'STNELEV': 'Station Elevation (meters)',\n",
      "            'Temp_Range': 'Temperature Range (°C)',\n",
      "            'NAME': 'Station Name',\n",
      "            'Decade': 'Time Period'\n",
      "        },\n",
      "        title=title_string\n",
      "    )\n",
      "    \n",
      "    # Enhance layout and styling\n",
      "    fig.update_layout(\n",
      "        height=800,\n",
      "        width=1000,\n",
      "        title_x=0.5,\n",
      "        template='plotly_white',\n",
      "        showlegend=False\n",
      "    )\n",
      "    \n",
      "    # Update axes titles for better readability\n",
      "    fig.update_xaxes(title_text='Station Elevation (meters)')\n",
      "    fig.update_yaxes(title_text='Temperature Range (°C)')\n",
      "    \n",
      "    return fig\n",
      "\n"
     ]
    }
   ],
   "source": [
    "from climate_database import plot_elevation_temp_trends\n",
    "print(inspect.getsource(plot_elevation_temp_trends))"
   ]
  },
  {
   "cell_type": "code",
   "execution_count": 44,
   "id": "490a1603",
   "metadata": {},
   "outputs": [
    {
     "data": {
      "text/html": [
       "<iframe\n",
       "    scrolling=\"no\"\n",
       "    width=\"1020px\"\n",
       "    height=\"820\"\n",
       "    src=\"iframe_figures/figure_44.html\"\n",
       "    frameborder=\"0\"\n",
       "    allowfullscreen\n",
       "></iframe>\n"
      ]
     },
     "metadata": {},
     "output_type": "display_data"
    }
   ],
   "source": [
    "fig = plot_elevation_temp_trends(\"climate.db\", \n",
    "                                 \"Germany\", \n",
    "                                 ((1980, 1989),(1990, 1999), (2000, 2009), (2010, 2019)), \n",
    "                                 3,\n",
    "                                max_elevation = 9000)\n",
    "fig.show()"
   ]
  },
  {
   "cell_type": "markdown",
   "id": "e54c94e3",
   "metadata": {},
   "source": [
    "From the graph, we see that the correlation between elevation and temperature varaibility is not so stable across four decades in Germany in March. \n",
    "\n",
    "Great! Now we have learned to create visualizations using database."
   ]
  }
 ],
 "metadata": {
  "kernelspec": {
   "display_name": "Python [conda env:PIC16B-25W]",
   "language": "python",
   "name": "conda-env-PIC16B-25W-py"
  },
  "language_info": {
   "codemirror_mode": {
    "name": "ipython",
    "version": 3
   },
   "file_extension": ".py",
   "mimetype": "text/x-python",
   "name": "python",
   "nbconvert_exporter": "python",
   "pygments_lexer": "ipython3",
   "version": "3.11.6"
  }
 },
 "nbformat": 4,
 "nbformat_minor": 5
}
